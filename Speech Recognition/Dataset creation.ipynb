{
 "cells": [
  {
   "cell_type": "code",
   "execution_count": 1,
   "metadata": {},
   "outputs": [
    {
     "name": "stderr",
     "output_type": "stream",
     "text": [
      "C:\\ProgramData\\Anaconda3\\lib\\site-packages\\pydub\\utils.py:165: RuntimeWarning: Couldn't find ffmpeg or avconv - defaulting to ffmpeg, but may not work\n",
      "  warn(\"Couldn't find ffmpeg or avconv - defaulting to ffmpeg, but may not work\", RuntimeWarning)\n"
     ]
    }
   ],
   "source": [
    "from pydub import AudioSegment\n",
    "import numpy as np\n",
    "# Librosa for audio\n",
    "import librosa\n",
    "# And the display module for visualization\n",
    "import librosa.display\n",
    "import os\n",
    "import matplotlib.pyplot as plt\n",
    "%matplotlib inline"
   ]
  },
  {
   "cell_type": "code",
   "execution_count": 2,
   "metadata": {},
   "outputs": [
    {
     "name": "stdout",
     "output_type": "stream",
     "text": [
      "bed\n",
      "bird\n",
      "cat\n",
      "dog\n",
      "down\n",
      "eight\n",
      "five\n",
      "four\n",
      "go\n",
      "happy\n",
      "house\n",
      "left\n",
      "marvin\n",
      "nine\n",
      "no\n",
      "off\n",
      "on\n",
      "one\n",
      "right\n",
      "seven\n",
      "sheila\n",
      "six\n",
      "stop\n",
      "three\n",
      "tree\n",
      "two\n",
      "up\n",
      "wow\n",
      "yes\n",
      "zero\n"
     ]
    }
   ],
   "source": [
    "X = []\n",
    "labels = []\n",
    "labellist = []\n",
    "count=[]\n",
    "pwd='./data/'\n",
    "files = os.listdir(pwd)\n",
    "for filename in files:\n",
    "    labellist.append(filename)\n",
    "for filename in labellist:\n",
    "    print(filename)\n",
    "    path=pwd+filename\n",
    "    x=[]\n",
    "    count.append(len(os.listdir(path)))\n",
    "    for audio in os.listdir(path):\n",
    "        try:\n",
    "            wav = AudioSegment.from_wav(path+'/'+audio)\n",
    "            wav=np.array(wav.get_array_of_samples()).astype(np.float32)\n",
    "            S = librosa.feature.melspectrogram(wav, sr=16000, n_mels=128)\n",
    "            log_S = librosa.power_to_db(S, ref=np.max)\n",
    "            log_S1=np.zeros((128,32))\n",
    "            m=log_S.shape[1]\n",
    "            if m<=32:\n",
    "                log_S1[:,:m]=log_S[:,:]\n",
    "            else:\n",
    "                log_S1[:,:]=log_S[:,:32]\n",
    "            log_S1=log_S1.T\n",
    "            log_S1=log_S1.reshape((32,128,1))\n",
    "            x.append(log_S1)\n",
    "        except:\n",
    "            print(path+'/'+audio)\n",
    "    X.append(x)"
   ]
  },
  {
   "cell_type": "code",
   "execution_count": 3,
   "metadata": {},
   "outputs": [],
   "source": [
    "for ix in range(len(count)):\n",
    "    for ij in range(count[ix]):\n",
    "        labels.append(labellist[ix])\n",
    "labels=np.asarray(labels)"
   ]
  },
  {
   "cell_type": "code",
   "execution_count": 4,
   "metadata": {},
   "outputs": [],
   "source": [
    "for ix in range(len(X)):\n",
    "    os.mkdir('output/'+labellist[ix])\n",
    "    for ij in range(len(X[ix])):\n",
    "        spec=X[ix][ij]\n",
    "        np.savez('output/'+labellist[ix]+'/'+str(ij)+'.npz',spec)\n",
    "        \n",
    "np.savez('output/labels.npz',labels)"
   ]
  },
  {
   "cell_type": "code",
   "execution_count": null,
   "metadata": {},
   "outputs": [],
   "source": [
    "# Make a new figure\n",
    "plt.figure(figsize=(12,4))\n",
    "\n",
    "# Display the spectrogram on a mel scale\n",
    "# sample rate and hop length parameters are used to render the time axis\n",
    "librosa.display.specshow(log_S, sr=16000, x_axis='time', y_axis='mel')\n",
    "\n",
    "# Put a descriptive title on the plot\n",
    "plt.title('mel power spectrogram')\n",
    "\n",
    "# draw a color bar\n",
    "plt.colorbar(format='%+02.0f dB')\n",
    "\n",
    "# Make the figure layout compact\n",
    "plt.tight_layout()"
   ]
  },
  {
   "cell_type": "code",
   "execution_count": null,
   "metadata": {},
   "outputs": [],
   "source": []
  }
 ],
 "metadata": {
  "kernelspec": {
   "display_name": "Python 3",
   "language": "python",
   "name": "python3"
  },
  "language_info": {
   "codemirror_mode": {
    "name": "ipython",
    "version": 3
   },
   "file_extension": ".py",
   "mimetype": "text/x-python",
   "name": "python",
   "nbconvert_exporter": "python",
   "pygments_lexer": "ipython3",
   "version": "3.6.5"
  }
 },
 "nbformat": 4,
 "nbformat_minor": 2
}
